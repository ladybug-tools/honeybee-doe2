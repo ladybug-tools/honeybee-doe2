{
 "cells": [
  {
   "cell_type": "code",
   "execution_count": 3,
   "metadata": {},
   "outputs": [
    {
     "name": "stdout",
     "output_type": "stream",
     "text": [
      "True\n",
      "ScheduleRuleset: Hospital Critical Light [default day: Hospital Critical Light_Default] [1 rules]\n",
      "[['sunday', 'saturday']]\n",
      "[Schedule:Day:Interval,\n",
      " Hospital Critical Light_Default, !- schedule name\n",
      " ,                         !- schedule type limits\n",
      " No,                       !- interpolate to timestep\n",
      " 04:00,                    !- time 1 {hh:mm}\n",
      " 0.5,                      !- value until time 1\n",
      " 06:00,                    !- time 2 {hh:mm}\n",
      " 0.7,                      !- value until time 2\n",
      " 18:00,                    !- time 3 {hh:mm}\n",
      " 0.9,                      !- value until time 3\n",
      " 22:00,                    !- time 4 {hh:mm}\n",
      " 0.7,                      !- value until time 4\n",
      " 24:00,                    !- time 5 {hh:mm}\n",
      " 0.5;                      !- value until time 5, Schedule:Day:Interval,\n",
      " Hospital Critical Light_SmrDsn, !- schedule name\n",
      " ,                         !- schedule type limits\n",
      " No,                       !- interpolate to timestep\n",
      " 04:00,                    !- time 1 {hh:mm}\n",
      " 0.5,                      !- value until time 1\n",
      " 06:00,                    !- time 2 {hh:mm}\n",
      " 0.7,                      !- value until time 2\n",
      " 18:00,                    !- time 3 {hh:mm}\n",
      " 0.9,                      !- value until time 3\n",
      " 22:00,                    !- time 4 {hh:mm}\n",
      " 0.7,                      !- value until time 4\n",
      " 24:00,                    !- time 5 {hh:mm}\n",
      " 0.5;                      !- value until time 5, Schedule:Day:Interval,\n",
      " Hospital Critical Light_WntrDsn, !- schedule name\n",
      " ,                         !- schedule type limits\n",
      " No,                       !- interpolate to timestep\n",
      " 04:00,                    !- time 1 {hh:mm}\n",
      " 0.5,                      !- value until time 1\n",
      " 06:00,                    !- time 2 {hh:mm}\n",
      " 0.7,                      !- value until time 2\n",
      " 18:00,                    !- time 3 {hh:mm}\n",
      " 0.9,                      !- value until time 3\n",
      " 22:00,                    !- time 4 {hh:mm}\n",
      " 0.7,                      !- value until time 4\n",
      " 24:00,                    !- time 5 {hh:mm}\n",
      " 0.5;                      !- value until time 5, Schedule:Day:Interval,\n",
      " Hospital Critical Light_Sun|Sat, !- schedule name\n",
      " ,                         !- schedule type limits\n",
      " No,                       !- interpolate to timestep\n",
      " 04:00,                    !- time 1 {hh:mm}\n",
      " 0.5,                      !- value until time 1\n",
      " 06:00,                    !- time 2 {hh:mm}\n",
      " 0.7,                      !- value until time 2\n",
      " 18:00,                    !- time 3 {hh:mm}\n",
      " 0.9,                      !- value until time 3\n",
      " 22:00,                    !- time 4 {hh:mm}\n",
      " 0.7,                      !- value until time 4\n",
      " 24:00,                    !- time 5 {hh:mm}\n",
      " 0.5;                      !- value until time 5]\n"
     ]
    }
   ],
   "source": [
    "from honeybee.model import Model\n",
    "\n",
    "mymodel = Model.from_hbjson('./tests/assets/multi_hvac.hbjson')\n",
    "\n",
    "for sch in mymodel.properties.energy.schedules:\n",
    "    if sch.display_name == 'Hospital Critical Light':\n",
    "        print(sch.is_single_week)\n",
    "        print(sch)\n",
    "        print(str([rule.days_applied for rule in sch.schedule_rules]))\n",
    "        print(sch.day_schedules)"
   ]
  },
  {
   "cell_type": "code",
   "execution_count": null,
   "metadata": {},
   "outputs": [],
   "source": []
  }
 ],
 "metadata": {
  "kernelspec": {
   "display_name": "Python 3.9.5 ('.env': venv)",
   "language": "python",
   "name": "python3"
  },
  "language_info": {
   "codemirror_mode": {
    "name": "ipython",
    "version": 3
   },
   "file_extension": ".py",
   "mimetype": "text/x-python",
   "name": "python",
   "nbconvert_exporter": "python",
   "pygments_lexer": "ipython3",
   "version": "3.9.5"
  },
  "orig_nbformat": 4,
  "vscode": {
   "interpreter": {
    "hash": "64102ec5d521a84aea631c694a658e8415259261399b7e615bab718acc979667"
   }
  }
 },
 "nbformat": 4,
 "nbformat_minor": 2
}
