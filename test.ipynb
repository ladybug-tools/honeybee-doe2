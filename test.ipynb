{
 "cells": [
  {
   "cell_type": "code",
   "execution_count": 41,
   "metadata": {},
   "outputs": [
    {
     "name": "stdout",
     "output_type": "stream",
     "text": [
      "[0.0, 0.0, 0.0, 0.0, 0.0, 0.0, 0.0, 0.0, 0.0, 1.0, 1.0, 1.0, 1.0, 1.0, 1.0, 1.0, 1.0, 0.0, 0.0, 0.0, 0.0, 0.0, 0.0, 0.0]\n"
     ]
    }
   ],
   "source": [
    "from honeybee_energy.schedule.day import ScheduleDay\n",
    "import honeybee_energy.lib.scheduletypelimits as schedule_types\n",
    "from ladybug.dt import Time, Date\n",
    "from ladybug.datacollection import HourlyContinuousCollection\n",
    "from ladybug.analysisperiod import AnalysisPeriod\n",
    "from ladybug.datatype.generic import GenericType\n",
    "\n",
    "simple_office = ScheduleDay('Simple Office Occupancy',[0, 1, 0], [Time(0, 0), Time(9, 0), Time(17, 0)])\n",
    "\n",
    "print(list(simple_office.data_collection().values))"
   ]
  },
  {
   "cell_type": "code",
   "execution_count": 76,
   "metadata": {},
   "outputs": [
    {
     "name": "stdout",
     "output_type": "stream",
     "text": [
      "0.0\n",
      "0.0\n",
      "1.0\n",
      "0.0\n",
      "0.0\n",
      "0.0\n",
      "1.0\n",
      "0.0\n",
      "0.0\n",
      "0.0\n",
      "1.0\n",
      "0.0\n",
      "0.0\n",
      "1.0\n",
      "1.0\n",
      "0.0\n",
      "0.0\n",
      "1.0\n",
      "1.0\n",
      "0.0\n",
      "0.0\n",
      "1.0\n",
      "0.0\n",
      "0.0\n"
     ]
    }
   ],
   "source": [
    "\n",
    "    \n",
    "print_in_columns(simple_office.data_collection().values, 4)"
   ]
  },
  {
   "cell_type": "code",
   "execution_count": 107,
   "metadata": {},
   "outputs": [
    {
     "data": {
      "text/plain": [
       "\"Simple Office Occupancy\" = DAY-SCHEDULE\n",
       "   TYPE    = FRACTION\n",
       "   (1,24)    (0.0, 0.0, 0.0, 0.0,\n",
       "0.0, 0.0, 0.0, 0.0,\n",
       "0.0, 1.0, 1.0, 1.0,\n",
       "1.0, 1.0, 1.0, 1.0,\n",
       "1.0, 0.0, 0.0, 0.0,\n",
       "0.0, 0.0, 0.0, 0.0)\n",
       "   .."
      ]
     },
     "execution_count": 107,
     "metadata": {},
     "output_type": "execute_result"
    }
   ],
   "source": [
    "from dataclasses import dataclass\n",
    "\n",
    "from enum import Enum\n",
    "from honeybee_doe2.utils.doe_formatters import short_name\n",
    "from honeybee_energy.schedule.day import ScheduleDay\n",
    "import honeybee_energy.lib.scheduletypelimits as schedule_types\n",
    "from ladybug.dt import Time, Date\n",
    "from ladybug.datacollection import HourlyContinuousCollection\n",
    "from ladybug.analysisperiod import AnalysisPeriod\n",
    "from ladybug.datatype.generic import GenericType\n",
    "\n",
    "from honeybee_doe2.properties.activitydescriptions import DayScheduleType\n",
    "\n",
    "import textwrap\n",
    "    \n",
    "\n",
    "simple_office = ScheduleDay('Simple Office Occupancy',[0, 1, 0], [Time(0, 0), Time(9, 0), Time(17, 0)])\n",
    "\n",
    "@dataclass\n",
    "class DayScheduleDoe:\n",
    "    name: str = None\n",
    "    values: [float] = None\n",
    "    stype: DayScheduleType = None\n",
    "\n",
    "    @classmethod\n",
    "    def from_day_schedule(cls, day_schedule, stype):\n",
    "        \"\"\"Create a DaySchedule from a DaySchedule.\"\"\"\n",
    "        \n",
    "        mywrap = textwrap.TextWrapper(width=20)\n",
    "        \n",
    "        vals = list(day_schedule.data_collection().values)\n",
    "        vals = \", \".join([str(val) for val in vals])\n",
    "        vals = mywrap.fill(vals)\n",
    "        \n",
    "        \n",
    "\n",
    "        return cls(name=day_schedule.display_name,\n",
    "                   values=vals,\n",
    "                   stype=stype)\n",
    "\n",
    "    def to_inp(self):\n",
    "        obj_lines = []\n",
    "        obj_lines.append(f'\"{self.name}\" = DAY-SCHEDULE')\n",
    "        obj_lines.append(f'\\n   TYPE    = {self.stype.value}')\n",
    "        obj_lines.append(f'\\n   (1,24)    ({self.values})')\n",
    "        obj_lines.append(f'\\n   ..')\n",
    "\n",
    "        return ''.join([line for line in obj_lines])\n",
    "\n",
    "    def __repr__(self):\n",
    "        return self.to_inp()\n",
    "    \n",
    "    \n",
    "new_obj = DayScheduleDoe.from_day_schedule(simple_office, DayScheduleType.FRACTION)\n",
    "\n",
    "\n",
    "new_obj\n",
    "\n"
   ]
  },
  {
   "cell_type": "code",
   "execution_count": 65,
   "metadata": {},
   "outputs": [
    {
     "name": "stdout",
     "output_type": "stream",
     "text": [
      "(0.0, 0.0, 0.0\n",
      ", 0.0, 0.0, 0.\n",
      "0, 0.0, 0.0, 0\n",
      ".0, 1.0, 1.0, \n",
      "1.0, 1.0, 1.0,\n",
      " 1.0, 1.0, 1.0\n",
      ", 0.0, 0.0, 0.\n",
      "0, 0.0, 0.0, 0\n",
      ".0, 0.0)\n"
     ]
    }
   ],
   "source": [
    "simple_office = ScheduleDay('Simple Office Occupancy',[0, 1, 0], [Time(0, 0), Time(9, 0), Time(17, 0)])\n",
    "new_vals = simple_office.data_collection().values\n",
    "\n",
    "def insert_newlines(string, every=14):\n",
    "    lines = []\n",
    "    for i in range(0, len(string), every):\n",
    "        lines.append(string[i:i+every])\n",
    "    return '\\n'.join(lines)\n",
    "\n",
    "\n",
    "print(insert_newlines(str(new_vals)))"
   ]
  },
  {
   "cell_type": "code",
   "execution_count": 69,
   "metadata": {},
   "outputs": [
    {
     "name": "stdout",
     "output_type": "stream",
     "text": [
      "117\n"
     ]
    }
   ],
   "source": [
    "print(len('0.0, 0.0, 0.0, 0.0, 0.0, 0.0, 0.0, 0.0, 0.0, 1.0, 1.0, 1.0, 1.0, 1.0,1.0, 1.0, 1.0, 0.0, 0.0, 0.0, 0.0, 0.0, 0.0, 0.0'))\n",
    "      \n",
    "      \n",
    "      "
   ]
  },
  {
   "cell_type": "code",
   "execution_count": 27,
   "metadata": {},
   "outputs": [
    {
     "data": {
      "text/plain": [
       "\"Simple Office Occupancy\" = DAY-SCHEDULE\n",
       "   TYPE    = FRACTION\n",
       "   HOURS   = (1, 10)\n",
       "   VALUES  = (0.0)\n",
       "   HOURS   = (10, 18)\n",
       "   VALUES  = (1.0)\n",
       "   HOURS   = (18, 24)\n",
       "   VALUES  = (0.0)\n",
       "   .."
      ]
     },
     "execution_count": 27,
     "metadata": {},
     "output_type": "execute_result"
    }
   ],
   "source": [
    "from honeybee_doe2.properties.activitydescriptions import DayScheduleDoe, DayScheduleType\n",
    "\n",
    "mysch = DayScheduleDoe.from_day_schedule(simple_office, DayScheduleType.FRACTION)\n",
    "\n",
    "mysch"
   ]
  },
  {
   "cell_type": "code",
   "execution_count": null,
   "metadata": {},
   "outputs": [
    {
     "data": {
      "text/plain": [
       "(ScheduleRule: Saturday Office Occupancy [days applied: saturday] [date range: 01 Jan - 31 Dec],\n",
       " ScheduleRule: Sunday Office Occupancy [days applied: sunday] [date range: 01 Jan - 31 Dec])"
      ]
     },
     "execution_count": 8,
     "metadata": {},
     "output_type": "execute_result"
    }
   ],
   "source": [
    "from honeybee_energy.schedule.day import ScheduleDay\n",
    "from honeybee_energy.schedule.rule import ScheduleRule\n",
    "from honeybee_energy.schedule.ruleset import ScheduleRuleset\n",
    "from honeybee_energy.schedule.typelimit import ScheduleTypeLimit\n",
    "import honeybee_energy.lib.scheduletypelimits as schedule_types\n",
    "\n",
    "from ladybug.dt import Date, Time\n",
    "from ladybug.datatype import fraction\n",
    "from ladybug.analysisperiod import AnalysisPeriod\n",
    "\n",
    "weekday_office = ScheduleDay('Weekday Office Occupancy', [0, 1, 0],\n",
    "                                 [Time(0, 0), Time(9, 0), Time(17, 0)])\n",
    "saturday_office = ScheduleDay('Saturday Office Occupancy', [0, 0.25, 0],\n",
    "                                [Time(0, 0), Time(9, 0), Time(17, 0)])\n",
    "sunday_office = ScheduleDay('Sunday Office Occupancy', [0])\n",
    "sat_rule = ScheduleRule(saturday_office, apply_saturday=True)\n",
    "sun_rule = ScheduleRule(sunday_office, apply_sunday=True)\n",
    "summer_office = ScheduleDay('Summer Office Occupancy', [0, 1, 0.25],\n",
    "                            [Time(0, 0), Time(6, 0), Time(22, 0)])\n",
    "winter_office = ScheduleDay('Winter Office Occupancy', [0])\n",
    "schedule = ScheduleRuleset('Office Occupancy', weekday_office,\n",
    "                            [sat_rule, sun_rule], schedule_types.fractional,\n",
    "                            sunday_office, summer_office, winter_office)\n",
    "\n",
    "schedule.schedule_rules"
   ]
  },
  {
   "cell_type": "code",
   "execution_count": null,
   "metadata": {},
   "outputs": [
    {
     "name": "stdout",
     "output_type": "stream",
     "text": [
      "(1, 8) 0.4\n",
      "(8, 9) 0.5\n",
      "(9, 10) 0.6\n",
      "(10, 18) 0.8\n",
      "(18, 19) 0.6\n",
      "(19, 21) 0.5\n"
     ]
    }
   ],
   "source": [
    "\n",
    "values = [0.4, 0.5, 0.6, 0.8, 0.6, 0.5, 0.4]\n",
    "hb = [1, 8, 9, 10, 18, 19, 21]\n",
    "\n",
    "new_hours = []\n",
    "\n",
    "for i, h in enumerate(hb):\n",
    "    if i != 0:\n",
    "        new_hours.append((hb[i-1], h))\n",
    "        \n",
    "        \n",
    "for h, v in zip(new_hours, values):\n",
    "    print(h, v)"
   ]
  },
  {
   "cell_type": "code",
   "execution_count": null,
   "metadata": {},
   "outputs": [
    {
     "name": "stdout",
     "output_type": "stream",
     "text": [
      "ScheduleRuleset: Hospital BLDG_LIGHT_EXTD_SCH [default day: Hospital BLDG_LIGHT_EXTD_SCH_Default] [2 rules]\n"
     ]
    }
   ],
   "source": [
    "from honeybee.model import Model\n",
    "\n",
    "tmodel = Model.from_file('tests\\\\assets\\\\hospcube.hbjson')\n",
    "\n",
    "for room in tmodel.rooms:\n",
    "    print(room.properties.energy.lighting.schedule)"
   ]
  },
  {
   "cell_type": "code",
   "execution_count": null,
   "metadata": {},
   "outputs": [],
   "source": [
    "from honeybee.model import Model\n",
    "from honeybee_doe2.properties.activitydescriptions import DayScheduleDoe, DayScheduleType\n",
    "\n",
    "tmodel = Model.from_file('tests\\\\assets\\\\hospcube.hbjson')\n",
    "room1 = tmodel.rooms[0]\n",
    "\n",
    "dsch = room1.properties.energy.lighting.schedule.day_schedules[0]\n",
    "\n",
    "doe_dsch = DayScheduleDoe.from_day_schedule(dsch, DayScheduleType.FRACTION)\n"
   ]
  },
  {
   "cell_type": "code",
   "execution_count": null,
   "metadata": {},
   "outputs": [
    {
     "data": {
      "text/plain": [
       "\"Hospital BLDG_LIGHT_EXTD_SCH_Default\" = DAY-SCHEDULE\n",
       "   TYPE    = FRACTION\n",
       "   HOURS   = (1, 9)\n",
       "   VALUES  = (0.5)\n",
       "   HOURS   = (9, 17)\n",
       "   VALUES  = (0.7)\n",
       "   .."
      ]
     },
     "execution_count": 12,
     "metadata": {},
     "output_type": "execute_result"
    }
   ],
   "source": [
    "doe_dsch"
   ]
  },
  {
   "cell_type": "code",
   "execution_count": null,
   "metadata": {},
   "outputs": [
    {
     "name": "stdout",
     "output_type": "stream",
     "text": [
      "5\n"
     ]
    }
   ],
   "source": [
    "print(len(room1.properties.energy.lighting.schedule.day_schedules))"
   ]
  },
  {
   "cell_type": "code",
   "execution_count": null,
   "metadata": {},
   "outputs": [
    {
     "name": "stdout",
     "output_type": "stream",
     "text": [
      "\"Hospital BLDG_LIGHT_EXTD_SCH_Default\" = DAY-SCHEDULE\n",
      "   TYPE    = FRACTION\n",
      "   HOURS   = (1, 9)\n",
      "   VALUES  = (0.5)\n",
      "   HOURS   = (9, 17)\n",
      "   VALUES  = (0.7)\n",
      "   ..\n",
      "\"Hospital BLDG_LIGHT_EXTD_SCH_SmrDsn\" = DAY-SCHEDULE\n",
      "   TYPE    = FRACTION\n",
      "   ..\n",
      "\"Hospital BLDG_LIGHT_EXTD_SCH_WntrDsn\" = DAY-SCHEDULE\n",
      "   TYPE    = FRACTION\n",
      "   ..\n",
      "\"Hospital BLDG_LIGHT_EXTD_SCH_Sat\" = DAY-SCHEDULE\n",
      "   TYPE    = FRACTION\n",
      "   HOURS   = (1, 9)\n",
      "   VALUES  = (0.5)\n",
      "   HOURS   = (9, 19)\n",
      "   VALUES  = (0.8)\n",
      "   ..\n",
      "\"Hospital BLDG_LIGHT_EXTD_SCH_Wkdy\" = DAY-SCHEDULE\n",
      "   TYPE    = FRACTION\n",
      "   HOURS   = (1, 9)\n",
      "   VALUES  = (0.5)\n",
      "   HOURS   = (9, 17)\n",
      "   VALUES  = (0.9)\n",
      "   ..\n"
     ]
    }
   ],
   "source": [
    "for dsch in room1.properties.energy.lighting.schedule.day_schedules:\n",
    "    print(DayScheduleDoe.from_day_schedule(dsch, DayScheduleType.FRACTION).to_inp())"
   ]
  },
  {
   "cell_type": "code",
   "execution_count": null,
   "metadata": {},
   "outputs": [
    {
     "name": "stdout",
     "output_type": "stream",
     "text": [
      "5\n"
     ]
    }
   ],
   "source": [
    " [1,2,3,4,5]\n",
    "\n",
    "print(len(mylist))"
   ]
  },
  {
   "cell_type": "code",
   "execution_count": null,
   "metadata": {},
   "outputs": [
    {
     "name": "stdout",
     "output_type": "stream",
     "text": [
      "1\n"
     ]
    }
   ],
   "source": []
  },
  {
   "cell_type": "code",
   "execution_count": null,
   "metadata": {},
   "outputs": [],
   "source": []
  }
 ],
 "metadata": {
  "kernelspec": {
   "display_name": "Python 3.9.5 ('.env': venv)",
   "language": "python",
   "name": "python3"
  },
  "language_info": {
   "codemirror_mode": {
    "name": "ipython",
    "version": 3
   },
   "file_extension": ".py",
   "mimetype": "text/x-python",
   "name": "python",
   "nbconvert_exporter": "python",
   "pygments_lexer": "ipython3",
   "version": "3.9.5"
  },
  "orig_nbformat": 4,
  "vscode": {
   "interpreter": {
    "hash": "64102ec5d521a84aea631c694a658e8415259261399b7e615bab718acc979667"
   }
  }
 },
 "nbformat": 4,
 "nbformat_minor": 2
}
