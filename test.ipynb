{
 "cells": [
  {
   "cell_type": "code",
   "execution_count": 41,
   "metadata": {},
   "outputs": [
    {
     "name": "stdout",
     "output_type": "stream",
     "text": [
      "[0.0, 0.0, 0.0, 0.0, 0.0, 0.0, 0.0, 0.0, 0.0, 1.0, 1.0, 1.0, 1.0, 1.0, 1.0, 1.0, 1.0, 0.0, 0.0, 0.0, 0.0, 0.0, 0.0, 0.0]\n"
     ]
    }
   ],
   "source": [
    "from honeybee_energy.schedule.day import ScheduleDay\n",
    "import honeybee_energy.lib.scheduletypelimits as schedule_types\n",
    "from ladybug.dt import Time, Date\n",
    "from ladybug.datacollection import HourlyContinuousCollection\n",
    "from ladybug.analysisperiod import AnalysisPeriod\n",
    "from ladybug.datatype.generic import GenericType\n",
    "\n",
    "simple_office = ScheduleDay('Simple Office Occupancy',[0, 1, 0], [Time(0, 0), Time(9, 0), Time(17, 0)])\n",
    "\n",
    "print(list(simple_office.data_collection().values))"
   ]
  },
  {
   "cell_type": "code",
   "execution_count": null,
   "metadata": {},
   "outputs": [
    {
     "data": {
      "text/plain": [
       "(ScheduleRule: Saturday Office Occupancy [days applied: saturday] [date range: 01 Jan - 31 Dec],\n",
       " ScheduleRule: Sunday Office Occupancy [days applied: sunday] [date range: 01 Jan - 31 Dec])"
      ]
     },
     "execution_count": 8,
     "metadata": {},
     "output_type": "execute_result"
    }
   ],
   "source": [
    "from honeybee_energy.schedule.day import ScheduleDay\n",
    "from honeybee_energy.schedule.rule import ScheduleRule\n",
    "from honeybee_energy.schedule.ruleset import ScheduleRuleset\n",
    "from honeybee_energy.schedule.typelimit import ScheduleTypeLimit\n",
    "import honeybee_energy.lib.scheduletypelimits as schedule_types\n",
    "\n",
    "from ladybug.dt import Date, Time\n",
    "from ladybug.datatype import fraction\n",
    "from ladybug.analysisperiod import AnalysisPeriod\n",
    "\n",
    "weekday_office = ScheduleDay('Weekday Office Occupancy', [0, 1, 0],\n",
    "                                 [Time(0, 0), Time(9, 0), Time(17, 0)])\n",
    "saturday_office = ScheduleDay('Saturday Office Occupancy', [0, 0.25, 0],\n",
    "                                [Time(0, 0), Time(9, 0), Time(17, 0)])\n",
    "sunday_office = ScheduleDay('Sunday Office Occupancy', [0])\n",
    "sat_rule = ScheduleRule(saturday_office, apply_saturday=True)\n",
    "sun_rule = ScheduleRule(sunday_office, apply_sunday=True)\n",
    "summer_office = ScheduleDay('Summer Office Occupancy', [0, 1, 0.25],\n",
    "                            [Time(0, 0), Time(6, 0), Time(22, 0)])\n",
    "winter_office = ScheduleDay('Winter Office Occupancy', [0])\n",
    "schedule = ScheduleRuleset('Office Occupancy', weekday_office,\n",
    "                            [sat_rule, sun_rule], schedule_types.fractional,\n",
    "                            sunday_office, summer_office, winter_office)\n",
    "\n",
    "schedule.schedule_rules"
   ]
  },
  {
   "cell_type": "code",
   "execution_count": 22,
   "metadata": {},
   "outputs": [
    {
     "data": {
      "text/plain": [
       "ScheduleRule: Hospital BLDG_LIGHT_EXTD_SCH_Sat [days applied: saturday] [date range: 01 Jan - 31 Dec]"
      ]
     },
     "execution_count": 22,
     "metadata": {},
     "output_type": "execute_result"
    }
   ],
   "source": [
    "room.properties.energy.lighting.schedule[0]"
   ]
  },
  {
   "cell_type": "code",
   "execution_count": 2,
   "metadata": {},
   "outputs": [
    {
     "name": "stdout",
     "output_type": "stream",
     "text": [
      "Schedule:Day:Interval,\n",
      " Hospital BLDG_LIGHT_EXTD_SCH_SmrDsn, !- schedule name\n",
      " ,                         !- schedule type limits\n",
      " No,                       !- interpolate to timestep\n",
      " 24:00,                    !- time 1 {hh:mm}\n",
      " 1.0;                      !- value until time 1\n"
     ]
    }
   ],
   "source": [
    "print(room.properties.energy.lighting.schedule.summer_designday_schedule)"
   ]
  },
  {
   "cell_type": "code",
   "execution_count": 2,
   "metadata": {},
   "outputs": [
    {
     "data": {
      "text/plain": [
       "\"Hospital BLDG_LIGHT_EXTD_SCH\" = WEEK-SCHEDULE\n",
       "   TYPE     = FRACTION\n",
       "     (CDD)  \"Hospital BLDG_LIGHT_EXTD_SCH_SmrDsn\"\n",
       "     (HDD)  \"Hospital BLDG_LIGHT_EXTD_SCH_WntrDsn\"\n",
       "     (HOL)  \"Hospital BLDG_LIGHT_EXTD_SCH_Default\"\n",
       "     (SAT)  \"Hospital BLDG_LIGHT_EXTD_SCH_Sat\"\n",
       "     (MON, FRI)  \"Hospital BLDG_LIGHT_EXTD_SCH_Wkdy\"\n",
       "     (SUN)  \"Hospital BLDG_LIGHT_EXTD_SCH_Default\"\n",
       "   .."
      ]
     },
     "execution_count": 2,
     "metadata": {},
     "output_type": "execute_result"
    }
   ],
   "source": [
    "from honeybee.model import Model\n",
    "from honeybee_doe2.properties.activitydescription import DayScheduleDoe, DayScheduleType, WeekScheduleDoe\n",
    "\n",
    "\n",
    "tmodel = Model.from_file('tests\\\\assets\\\\hospcube.hbjson')\n",
    "room1 = tmodel.rooms[0]\n",
    "\n",
    "\n",
    "my_sch = WeekScheduleDoe.from_schedule_ruleset(room1.properties.energy.lighting.schedule, stype=DayScheduleType.FRACTION)\n",
    "my_sch"
   ]
  },
  {
   "cell_type": "code",
   "execution_count": 1,
   "metadata": {},
   "outputs": [
    {
     "data": {
      "text/plain": [
       "\"Hospital BLDG_LIGHT_EXTD_SCH\" = WEEK-SCHEDULE\n",
       "   TYPE     = FRACTION\n",
       "     (CDD)  \"Hospital BLDG_LIGHT_EXTD_SCH_SmrDsn\"\n",
       "     (HDD)  \"Hospital BLDG_LIGHT_EXTD_SCH_WntrDsn\"\n",
       "     (HOL)  \"Hospital BLDG_LIGHT_EXTD_SCH_Default\"\n",
       "     (SAT)  \"Hospital BLDG_LIGHT_EXTD_SCH_Sat\"\n",
       "     (MON, FRI)  \"Hospital BLDG_LIGHT_EXTD_SCH_Wkdy\"\n",
       "     (SUN)  \"Hospital BLDG_LIGHT_EXTD_SCH_Default\"\n",
       "   .."
      ]
     },
     "execution_count": 1,
     "metadata": {},
     "output_type": "execute_result"
    }
   ],
   "source": [
    "from honeybee.model import Model\n",
    "from honeybee_doe2.properties.activitydescription import DayScheduleDoe, DayScheduleType, WeekScheduleDoe\n",
    "\n",
    "\n",
    "tmodel = Model.from_file('tests\\\\assets\\\\hospcube.hbjson')\n",
    "room1 = tmodel.rooms[0]\n",
    "\n",
    "\n",
    "my_sch = WeekScheduleDoe.from_schedule_ruleset(room1.properties.energy.lighting.schedule, stype=DayScheduleType.FRACTION)\n",
    "my_sch"
   ]
  }
 ],
 "metadata": {
  "kernelspec": {
   "display_name": "Python 3.9.5 ('.env': venv)",
   "language": "python",
   "name": "python3"
  },
  "language_info": {
   "codemirror_mode": {
    "name": "ipython",
    "version": 3
   },
   "file_extension": ".py",
   "mimetype": "text/x-python",
   "name": "python",
   "nbconvert_exporter": "python",
   "pygments_lexer": "ipython3",
   "version": "3.9.5"
  },
  "orig_nbformat": 4,
  "vscode": {
   "interpreter": {
    "hash": "64102ec5d521a84aea631c694a658e8415259261399b7e615bab718acc979667"
   }
  }
 },
 "nbformat": 4,
 "nbformat_minor": 2
}
