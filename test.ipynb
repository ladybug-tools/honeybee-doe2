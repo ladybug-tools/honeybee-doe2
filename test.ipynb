{
 "cells": [
  {
   "cell_type": "code",
   "execution_count": 2,
   "metadata": {},
   "outputs": [],
   "source": [
    "from honeybee.model import Model\n",
    "\n",
    "mymodel = Model.from_hbjson('./tests/assets/multi_hvac.hbjson')\n",
    "\n"
   ]
  },
  {
   "cell_type": "code",
   "execution_count": 16,
   "metadata": {},
   "outputs": [
    {
     "name": "stdout",
     "output_type": "stream",
     "text": [
      "True\n",
      "ScheduleRuleset: Hospital Critical Light [default day: Hospital Critical Light_Default] [1 rules]\n",
      "[['sunday', 'saturday']]\n"
     ]
    }
   ],
   "source": [
    "for sch in mymodel.properties.energy.schedules:\n",
    "    if sch.display_name == 'Hospital Critical Light':\n",
    "        print(sch.is_single_week)\n",
    "        print(sch)\n",
    "        print(str([rule.days_applied for rule in sch.schedule_rules]))"
   ]
  },
  {
   "cell_type": "code",
   "execution_count": null,
   "metadata": {},
   "outputs": [],
   "source": [
    "from dataclasses import dataclass\n",
    "from honeybee_doe2.properties.activitydescription import DayScheduleType\n",
    "from honeybee_energy.schedule.ruleset import ScheduleRuleset\n",
    "\n"
   ]
  }
 ],
 "metadata": {
  "kernelspec": {
   "display_name": "Python 3.9.5 ('.env': venv)",
   "language": "python",
   "name": "python3"
  },
  "language_info": {
   "codemirror_mode": {
    "name": "ipython",
    "version": 3
   },
   "file_extension": ".py",
   "mimetype": "text/x-python",
   "name": "python",
   "nbconvert_exporter": "python",
   "pygments_lexer": "ipython3",
   "version": "3.9.5"
  },
  "orig_nbformat": 4,
  "vscode": {
   "interpreter": {
    "hash": "64102ec5d521a84aea631c694a658e8415259261399b7e615bab718acc979667"
   }
  }
 },
 "nbformat": 4,
 "nbformat_minor": 2
}
