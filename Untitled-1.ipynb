{
 "cells": [
  {
   "cell_type": "code",
   "execution_count": 2,
   "metadata": {},
   "outputs": [],
   "source": [
    "from honeybee.model import Model\n",
    "from honeybee_doe2.properties.activitydescription import DayScheduleDoe, DayScheduleType, WeekScheduleDoe\n",
    "from honeybee_doe2.properties.room import RoomDoe2Properties as doe_room\n",
    "from honeybee_doe2.writer import honeybee_model_to_inp\n",
    "\n",
    "model = Model.from_file('tests\\\\assets\\\\revit-sample-with-program-type.hbjson')\n",
    "model.convert_to_units(units='Feet')\n"
   ]
  },
  {
   "cell_type": "code",
   "execution_count": 11,
   "metadata": {},
   "outputs": [
    {
     "name": "stdout",
     "output_type": "stream",
     "text": [
      "MdrsAprtmntAprtm_ghtDflt\n",
      "MdrsAprtmntAprtm_tSmrDsn\n",
      "MdrsAprtmntAprtm_WntrDsn\n",
      "AprtmntMdRsEQPAPTSCHDflt\n",
      "AprtmntMdRsEQPAP_HSmrDsn\n",
      "AprtmntMdRsEQPAP_WntrDsn\n",
      "AprtmntMdRsAPTDHWSCHDflt\n",
      "AprtmntMdRsAPTDH_HSmrDsn\n",
      "AprtmntMdRsAPTDH_WntrDsn\n",
      "MdrsAprtmntAprtm_StpDflt\n",
      "MdrsAprtmntAprtm_pSmrDsn\n",
      "MdrsAprtmntAprtm_WntrDsn\n",
      "MdrsAprtmnt ActvtDflt\n",
      "MdrsAprtmnt ActvtSmrDsn\n",
      "MdrsAprtmnt ActvtWntrDsn\n",
      "MdrsAprtmnt InflDflt\n",
      "MdrsAprtmnt InflSmrDsn\n",
      "MdrsAprtmnt InflWntrDsn\n",
      "MdrsAprtmntAprtm_StpDflt\n",
      "MdrsAprtmntAprtm_pSmrDsn\n",
      "MdrsAprtmntAprtm_WntrDsn\n",
      "MdrsAprtmntAprtm_OccDflt\n",
      "MdrsAprtmntAprtm_cSmrDsn\n",
      "MdrsAprtmntAprtm_WntrDsn\n"
     ]
    }
   ],
   "source": [
    "from honeybee_doe2.utils.doe_formatters import short_name\n",
    "\n",
    "for scheduleruleset in model.properties.energy.schedules:\n",
    "       for day in scheduleruleset.day_schedules:\n",
    "           day.unlock()\n",
    "           day.display_name = short_name(day.display_name)\n",
    "           print(day.display_name)"
   ]
  },
  {
   "cell_type": "code",
   "execution_count": 46,
   "metadata": {},
   "outputs": [
    {
     "data": {
      "text/plain": [
       "['MdrsAprtmntAprtm_ghtDflt',\n",
       " 'MdrsAprtmntAprtm_tSmrDsn',\n",
       " 'MdrsAprtmntAprtm_WntrDsn',\n",
       " 'AprtmntMdRsEQPAPTSCHDflt',\n",
       " 'AprtmntMdRsEQPAP_HSmrDsn',\n",
       " 'AprtmntMdRsEQPAP_WntrDsn',\n",
       " 'AprtmntMdRsAPTDHWSCHDflt',\n",
       " 'AprtmntMdRsAPTDH_HSmrDsn',\n",
       " 'AprtmntMdRsAPTDH_WntrDsn',\n",
       " 'MdrsAprtmntAprtm_StpDflt',\n",
       " 'MdrsAprtmntAprtm_pSmrDsn',\n",
       " 'MdrsAprtmntAprtm_WntrDs2',\n",
       " 'MdrsAprtmnt ActvtDflt',\n",
       " 'MdrsAprtmnt ActvtSmrDsn',\n",
       " 'MdrsAprtmnt ActvtWntrDsn',\n",
       " 'MdrsAprtmnt InflDflt',\n",
       " 'MdrsAprtmnt InflSmrDsn',\n",
       " 'MdrsAprtmnt InflWntrDsn',\n",
       " 'MdrsAprtmntAprtm_StpDfl2',\n",
       " 'MdrsAprtmntAprtm_pSmrDs2',\n",
       " 'MdrsAprtmntAprtm_WntrDs3',\n",
       " 'MdrsAprtmntAprtm_OccDflt',\n",
       " 'MdrsAprtmntAprtm_cSmrDsn',\n",
       " 'MdrsAprtmntAprtm_WntrDs4']"
      ]
     },
     "execution_count": 46,
     "metadata": {},
     "output_type": "execute_result"
    }
   ],
   "source": [
    "from honeybee.model import Model\n",
    "from honeybee_doe2.properties.activitydescription import DayScheduleDoe, DayScheduleType, WeekScheduleDoe\n",
    "from honeybee_doe2.properties.room import RoomDoe2Properties as doe_room\n",
    "from honeybee_doe2.writer import honeybee_model_to_inp\n",
    "from pprint import pprint\n",
    "model = Model.from_file('tests\\\\assets\\\\revit-sample-with-program-type.hbjson')\n",
    "model.convert_to_units(units='Feet')\n",
    "\n",
    "from honeybee_doe2.utils.doe_formatters import short_name\n",
    "\n",
    "day_list = [] \n",
    "for scheduleruleset in model.properties.energy.schedules:\n",
    "    for day in scheduleruleset.day_schedules:\n",
    "        day.unlock()\n",
    "        day.display_name = short_name(day.display_name)\n",
    "        day_list.append(day)\n",
    "\n",
    "counts = {}\n",
    "for i, day in enumerate(day_list):\n",
    "    if day.display_name in counts:\n",
    "        counts[day.display_name] += 1\n",
    "        day_list[i].display_name = f\"{day.display_name[:-1]}{counts[day.display_name]}\"\n",
    "    else:\n",
    "        counts[day.display_name] = 1 \n",
    "\n",
    "dd = [day.display_name for day in day_list]\n",
    "dd"
   ]
  },
  {
   "cell_type": "code",
   "execution_count": null,
   "metadata": {},
   "outputs": [],
   "source": []
  }
 ],
 "metadata": {
  "kernelspec": {
   "display_name": "Python 3.9.5 ('.env': venv)",
   "language": "python",
   "name": "python3"
  },
  "language_info": {
   "codemirror_mode": {
    "name": "ipython",
    "version": 3
   },
   "file_extension": ".py",
   "mimetype": "text/x-python",
   "name": "python",
   "nbconvert_exporter": "python",
   "pygments_lexer": "ipython3",
   "version": "3.9.5"
  },
  "orig_nbformat": 4,
  "vscode": {
   "interpreter": {
    "hash": "64102ec5d521a84aea631c694a658e8415259261399b7e615bab718acc979667"
   }
  }
 },
 "nbformat": 4,
 "nbformat_minor": 2
}
