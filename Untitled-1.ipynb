{
 "cells": [
  {
   "cell_type": "code",
   "execution_count": 3,
   "metadata": {},
   "outputs": [
    {
     "name": "stdout",
     "output_type": "stream",
     "text": [
      "SET-DEFAULT FOR SPACE\n",
      "  PEOPLE-SCHEDULE = \n",
      "{switch(#L(\"C-ACTIVITY-DESC\"))\n",
      "case \"lobb\": #SI(\"Generic Office Occupancy\", \"SPACE\", \"PEOPLE-SCHEDULE\")\n",
      "case \"corr\": #SI(\"Generic Office Occupancy\", \"SPACE\", \"PEOPLE-SCHEDULE\")\n",
      "case \"brkm\": #SI(\"Generic Office Occupancy\", \"SPACE\", \"PEOPLE-SCHEDULE\")\n",
      "default: no_default\n",
      "endswitch}\n",
      "..\n",
      "\n"
     ]
    }
   ],
   "source": [
    "from dataclasses import dataclass\n",
    "from typing import List\n",
    "from honeybee.model import Model\n",
    "from honeybee_doe2.properties.activitydescription import DayScheduleDoe, DayScheduleType, WeekScheduleDoe\n",
    "from honeybee_doe2.properties.room import RoomDoe2Properties as doe_room\n",
    "from honeybee_doe2.writer import honeybee_model_to_inp\n",
    "\n",
    "from ladybug.datatype.temperature import Temperature\n",
    "\n",
    "from honeybee_doe2.properties.switchstatements import SwitchPeopleSched, SwitchAreaPerson\n",
    "\n",
    "model = Model.from_file(\"./tests/assets/switch_statements_v4.hbjson\")\n",
    "model.convert_to_units(units='Feet')\n",
    "\n",
    "test = SwitchPeopleSched.from_hb_model(model)\n",
    "\n",
    "print(test.to_inp())"
   ]
  },
  {
   "cell_type": "code",
   "execution_count": 8,
   "metadata": {},
   "outputs": [
    {
     "name": "stdout",
     "output_type": "stream",
     "text": [
      "17.699115044247787\n",
      "17.699115044247787\n",
      "17.699115044247787\n",
      "17.699115044247787\n",
      "17.699115044247787\n",
      "17.699115044247787\n"
     ]
    }
   ],
   "source": [
    "from dataclasses import dataclass\n",
    "from typing import List\n",
    "from honeybee.model import Model\n",
    "from honeybee_doe2.properties.activitydescription import DayScheduleDoe, DayScheduleType, WeekScheduleDoe\n",
    "from honeybee_doe2.properties.room import RoomDoe2Properties as doe_room\n",
    "from honeybee_doe2.writer import honeybee_model_to_inp\n",
    "\n",
    "from ladybug.datatype.temperature import Temperature\n",
    "\n",
    "from honeybee_doe2.properties.switchstatements import SwitchHeatSchedule, SwitchCoolSchedule\n",
    "\n",
    "model = Model.from_file(\"./tests/assets/switch_statements_v4.hbjson\")\n",
    "model.convert_to_units(units='Feet')\n",
    "\n",
    "for room in model.rooms:\n",
    "    print(room.properties.energy.people.area_per_person)"
   ]
  },
  {
   "cell_type": "code",
   "execution_count": 4,
   "metadata": {},
   "outputs": [
    {
     "name": "stdout",
     "output_type": "stream",
     "text": [
      "  HEAT-TEMP-SCH = (\n",
      "{switch(#LR(\"C-ACTIVITY-DESC\"))\n",
      "case \"brkm\": #SI(\"Generic Office Heating\", \"SPACE\", \"HEAT-TEMP-SCH\")\n",
      "case \"lobb\": #SI(\"Generic Office Heating\", \"SPACE\", \"HEAT-TEMP-SCH\")\n",
      "case \"corr\": #SI(\"Generic Office Heating\", \"SPACE\", \"HEAT-TEMP-SCH\")\n",
      "default: no_default\n",
      "endswitch} )\n"
     ]
    }
   ],
   "source": [
    "from dataclasses import dataclass\n",
    "from typing import List\n",
    "from honeybee.model import Model\n",
    "from honeybee_doe2.properties.activitydescription import DayScheduleDoe, DayScheduleType, WeekScheduleDoe\n",
    "from honeybee_doe2.properties.room import RoomDoe2Properties as doe_room\n",
    "from honeybee_doe2.writer import honeybee_model_to_inp\n",
    "\n",
    "from ladybug.datatype.temperature import Temperature\n",
    "\n",
    "from honeybee_doe2.properties.switchstatements import SwitchHeatSchedule, SwitchCoolSchedule\n",
    "\n",
    "model = Model.from_file(\"./tests/assets/switch_statements_v4.hbjson\")\n",
    "model.convert_to_units(units='Feet')\n",
    "\n",
    "test = SwitchHeatSchedule.from_hb_model(model)\n",
    "\n",
    "print(test.to_inp())\n"
   ]
  },
  {
   "cell_type": "code",
   "execution_count": 5,
   "metadata": {},
   "outputs": [
    {
     "name": "stdout",
     "output_type": "stream",
     "text": [
      "  COOL-TEMP-SCH = (\n",
      "{switch(#LR(\"C-ACTIVITY-DESC\"))\n",
      "case \"brkm\": #SI(\"Generic Office Cooling\", \"SPACE\", \"COOL-TEMP-SCH\")\n",
      "case \"lobb\": #SI(\"Generic Office Cooling\", \"SPACE\", \"COOL-TEMP-SCH\")\n",
      "case \"corr\": #SI(\"Generic Office Cooling\", \"SPACE\", \"COOL-TEMP-SCH\")\n",
      "default: no_default\n",
      "endswitch} )\n"
     ]
    }
   ],
   "source": [
    "test = SwitchCoolSchedule.from_hb_model(model)\n",
    "\n",
    "print(test)\n"
   ]
  },
  {
   "cell_type": "code",
   "execution_count": 12,
   "metadata": {},
   "outputs": [],
   "source": [
    "from honeybee_energy.schedule.ruleset import ScheduleRuleset\n",
    "\n",
    "ruleset_dict = {'type': 'ScheduleRuleset',\n",
    " 'identifier': 'Always On',\n",
    " 'day_schedules': [{'type': 'ScheduleDay',\n",
    "   'identifier': 'Always On_Day Schedule',\n",
    "   'values': (1.0,),\n",
    "   'times': [(0, 0)],\n",
    "   'interpolate': False}],\n",
    " 'default_day_schedule': 'Always On_Day Schedule',\n",
    " 'schedule_type_limit': {'type': 'ScheduleTypeLimit',\n",
    "  'identifier': 'Fractional',\n",
    "  'lower_limit': 0.0,\n",
    "  'upper_limit': 1.0,\n",
    "  'numeric_type': 'Continuous',\n",
    "  'unit_type': 'Dimensionless'}}\n",
    "\n",
    "\n",
    "my_ruleset = ScheduleRuleset.from_dict(ruleset_dict)\n",
    "    "
   ]
  },
  {
   "cell_type": "code",
   "execution_count": 14,
   "metadata": {},
   "outputs": [
    {
     "ename": "IndexError",
     "evalue": "list index out of range",
     "output_type": "error",
     "traceback": [
      "\u001b[1;31m---------------------------------------------------------------------------\u001b[0m",
      "\u001b[1;31mIndexError\u001b[0m                                Traceback (most recent call last)",
      "Cell \u001b[1;32mIn[14], line 5\u001b[0m\n\u001b[0;32m      1\u001b[0m \u001b[38;5;28;01mfrom\u001b[39;00m \u001b[38;5;21;01mhoneybee_doe2\u001b[39;00m\u001b[38;5;21;01m.\u001b[39;00m\u001b[38;5;21;01mproperties\u001b[39;00m\u001b[38;5;21;01m.\u001b[39;00m\u001b[38;5;21;01mactivitydescription\u001b[39;00m \u001b[38;5;28;01mimport\u001b[39;00m WeekScheduleDoe, DayScheduleType\n\u001b[0;32m      3\u001b[0m my_weeksch \u001b[38;5;241m=\u001b[39m WeekScheduleDoe\u001b[38;5;241m.\u001b[39mfrom_schedule_ruleset(stype\u001b[38;5;241m=\u001b[39mDayScheduleType\u001b[38;5;241m.\u001b[39mFRACTION, schedule_ruleset\u001b[38;5;241m=\u001b[39mmy_ruleset)\n\u001b[1;32m----> 5\u001b[0m \u001b[38;5;28mprint\u001b[39m(\u001b[43mmy_weeksch\u001b[49m\u001b[38;5;241;43m.\u001b[39;49m\u001b[43mto_inp\u001b[49m\u001b[43m(\u001b[49m\u001b[43m)\u001b[49m)\n",
      "File \u001b[1;32md:\\__A1_LBT_DEV\\honeybee-doe2\\honeybee_doe2\\properties\\activitydescription.py:220\u001b[0m, in \u001b[0;36mWeekScheduleDoe.to_inp\u001b[1;34m(self)\u001b[0m\n\u001b[0;32m    217\u001b[0m obj_lines\u001b[38;5;241m.\u001b[39mappend(\u001b[38;5;124mf\u001b[39m\u001b[38;5;124m'\u001b[39m\u001b[38;5;130;01m\\n\u001b[39;00m\u001b[38;5;124m                     \u001b[39m\u001b[38;5;124m\"\u001b[39m\u001b[38;5;132;01m{\u001b[39;00m\u001b[38;5;28mself\u001b[39m\u001b[38;5;241m.\u001b[39mday_schedules[\u001b[38;5;241m6\u001b[39m]\u001b[38;5;132;01m}\u001b[39;00m\u001b[38;5;124m\"\u001b[39m\u001b[38;5;124m, $ Sunday\u001b[39m\u001b[38;5;124m'\u001b[39m)\n\u001b[0;32m    218\u001b[0m obj_lines\u001b[38;5;241m.\u001b[39mappend(\u001b[38;5;124mf\u001b[39m\u001b[38;5;124m'\u001b[39m\u001b[38;5;130;01m\\n\u001b[39;00m\u001b[38;5;124m                     \u001b[39m\u001b[38;5;124m\"\u001b[39m\u001b[38;5;132;01m{\u001b[39;00m\u001b[38;5;28mself\u001b[39m\u001b[38;5;241m.\u001b[39mday_schedules[\u001b[38;5;241m7\u001b[39m]\u001b[38;5;132;01m}\u001b[39;00m\u001b[38;5;124m\"\u001b[39m\u001b[38;5;124m, $ Holiday\u001b[39m\u001b[38;5;124m'\u001b[39m)\n\u001b[0;32m    219\u001b[0m obj_lines\u001b[38;5;241m.\u001b[39mappend(\n\u001b[1;32m--> 220\u001b[0m     \u001b[38;5;124mf\u001b[39m\u001b[38;5;124m'\u001b[39m\u001b[38;5;130;01m\\n\u001b[39;00m\u001b[38;5;124m                     \u001b[39m\u001b[38;5;124m\"\u001b[39m\u001b[38;5;132;01m{\u001b[39;00m\u001b[38;5;28mself\u001b[39m\u001b[38;5;241m.\u001b[39mday_schedules[\u001b[38;5;241m8\u001b[39m]\u001b[38;5;132;01m}\u001b[39;00m\u001b[38;5;124m\"\u001b[39m\u001b[38;5;124m, $ Winter Design Day\u001b[39m\u001b[38;5;124m'\u001b[39m)\n\u001b[0;32m    221\u001b[0m obj_lines\u001b[38;5;241m.\u001b[39mappend(\n\u001b[0;32m    222\u001b[0m     \u001b[38;5;124mf\u001b[39m\u001b[38;5;124m'\u001b[39m\u001b[38;5;130;01m\\n\u001b[39;00m\u001b[38;5;124m                     \u001b[39m\u001b[38;5;124m\"\u001b[39m\u001b[38;5;132;01m{\u001b[39;00m\u001b[38;5;28mself\u001b[39m\u001b[38;5;241m.\u001b[39mday_schedules[\u001b[38;5;241m9\u001b[39m]\u001b[38;5;132;01m}\u001b[39;00m\u001b[38;5;124m\"\u001b[39m\u001b[38;5;124m, $ Summer Design Day\u001b[39m\u001b[38;5;124m'\u001b[39m)\n\u001b[0;32m    223\u001b[0m obj_lines\u001b[38;5;241m.\u001b[39mappend(\u001b[38;5;124mf\u001b[39m\u001b[38;5;124m'\u001b[39m\u001b[38;5;130;01m\\n\u001b[39;00m\u001b[38;5;124m                    )\u001b[39m\u001b[38;5;124m'\u001b[39m)\n",
      "\u001b[1;31mIndexError\u001b[0m: list index out of range"
     ]
    }
   ],
   "source": [
    "from honeybee_doe2.properties.activitydescription import WeekScheduleDoe, DayScheduleType\n",
    "\n",
    "my_weeksch = WeekScheduleDoe.from_schedule_ruleset(stype=DayScheduleType.FRACTION, schedule_ruleset=my_ruleset)\n",
    "\n",
    "print(my_weeksch.to_inp())"
   ]
  },
  {
   "cell_type": "code",
   "execution_count": null,
   "metadata": {},
   "outputs": [],
   "source": []
  },
  {
   "cell_type": "code",
   "execution_count": 11,
   "metadata": {},
   "outputs": [
    {
     "name": "stdout",
     "output_type": "stream",
     "text": [
      "MdrsAprtmntAprtm_ghtDflt\n",
      "MdrsAprtmntAprtm_tSmrDsn\n",
      "MdrsAprtmntAprtm_WntrDsn\n",
      "AprtmntMdRsEQPAPTSCHDflt\n",
      "AprtmntMdRsEQPAP_HSmrDsn\n",
      "AprtmntMdRsEQPAP_WntrDsn\n",
      "AprtmntMdRsAPTDHWSCHDflt\n",
      "AprtmntMdRsAPTDH_HSmrDsn\n",
      "AprtmntMdRsAPTDH_WntrDsn\n",
      "MdrsAprtmntAprtm_StpDflt\n",
      "MdrsAprtmntAprtm_pSmrDsn\n",
      "MdrsAprtmntAprtm_WntrDsn\n",
      "MdrsAprtmnt ActvtDflt\n",
      "MdrsAprtmnt ActvtSmrDsn\n",
      "MdrsAprtmnt ActvtWntrDsn\n",
      "MdrsAprtmnt InflDflt\n",
      "MdrsAprtmnt InflSmrDsn\n",
      "MdrsAprtmnt InflWntrDsn\n",
      "MdrsAprtmntAprtm_StpDflt\n",
      "MdrsAprtmntAprtm_pSmrDsn\n",
      "MdrsAprtmntAprtm_WntrDsn\n",
      "MdrsAprtmntAprtm_OccDflt\n",
      "MdrsAprtmntAprtm_cSmrDsn\n",
      "MdrsAprtmntAprtm_WntrDsn\n"
     ]
    }
   ],
   "source": [
    "from honeybee_doe2.utils.doe_formatters import short_name\n",
    "\n",
    "for scheduleruleset in model.properties.energy.schedules:\n",
    "       for day in scheduleruleset.day_schedules:\n",
    "           day.unlock()\n",
    "           day.display_name = short_name(day.display_name)\n",
    "           print(day.display_name)"
   ]
  },
  {
   "cell_type": "code",
   "execution_count": null,
   "metadata": {},
   "outputs": [],
   "source": []
  }
 ],
 "metadata": {
  "kernelspec": {
   "display_name": "Python 3.9.5 ('.env': venv)",
   "language": "python",
   "name": "python3"
  },
  "language_info": {
   "codemirror_mode": {
    "name": "ipython",
    "version": 3
   },
   "file_extension": ".py",
   "mimetype": "text/x-python",
   "name": "python",
   "nbconvert_exporter": "python",
   "pygments_lexer": "ipython3",
   "version": "3.9.5"
  },
  "orig_nbformat": 4,
  "vscode": {
   "interpreter": {
    "hash": "64102ec5d521a84aea631c694a658e8415259261399b7e615bab718acc979667"
   }
  }
 },
 "nbformat": 4,
 "nbformat_minor": 2
}
