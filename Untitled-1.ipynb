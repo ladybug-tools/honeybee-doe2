{
 "cells": [
  {
   "cell_type": "code",
   "execution_count": null,
   "metadata": {},
   "outputs": [],
   "source": [
    "from dataclasses import dataclass\n",
    "from typing import List\n",
    "from honeybee.model import Model\n",
    "from honeybee_doe2.properties.activitydescription import DayScheduleDoe, DayScheduleType, WeekScheduleDoe\n",
    "from honeybee_doe2.properties.room import RoomDoe2Properties as doe_room\n",
    "from honeybee_doe2.writer import honeybee_model_to_inp\n",
    "\n",
    "from ladybug.datatype.temperature import Temperature\n",
    "\n",
    "from honeybee_doe2.properties.switchstatements import SwitchPeopleSched, SwitchAreaPerson\n",
    "\n",
    "model = Model.from_file(\"./tests/assets/test_dupe_room_names.hbjson\")\n",
    "model.convert_to_units(units='Feet')\n",
    "\n",
    "room_list = [room for room in model.rooms]\n",
    "counts = {}\n",
    "for i, room in enumerate(room_list):\n",
    "    if room.display_name in counts:\n",
    "        counts[room.display_name] += 1\n",
    "        room_list[i].display_name = f\"{room.display_name}{counts[room.display_name]}\"\n",
    "    else:\n",
    "        counts[room.display_name] = 1 \n",
    "for room in model.rooms:\n",
    "    print(room.display_name)"
   ]
  },
  {
   "cell_type": "code",
   "execution_count": 4,
   "metadata": {},
   "outputs": [],
   "source": []
  },
  {
   "cell_type": "code",
   "execution_count": null,
   "metadata": {},
   "outputs": [],
   "source": []
  }
 ],
 "metadata": {
  "kernelspec": {
   "display_name": "Python 3.9.5 ('.env': venv)",
   "language": "python",
   "name": "python3"
  },
  "language_info": {
   "codemirror_mode": {
    "name": "ipython",
    "version": 3
   },
   "file_extension": ".py",
   "mimetype": "text/x-python",
   "name": "python",
   "nbconvert_exporter": "python",
   "pygments_lexer": "ipython3",
   "version": "3.9.5"
  },
  "orig_nbformat": 4,
  "vscode": {
   "interpreter": {
    "hash": "64102ec5d521a84aea631c694a658e8415259261399b7e615bab718acc979667"
   }
  }
 },
 "nbformat": 4,
 "nbformat_minor": 2
}
