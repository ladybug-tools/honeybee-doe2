{
 "cells": [
  {
   "cell_type": "code",
   "execution_count": 8,
   "metadata": {},
   "outputs": [],
   "source": [
    "from honeybee.model import Model\n",
    "from honeybee_doe2.properties.activitydescription import DayScheduleDoe, DayScheduleType, WeekScheduleDoe\n",
    "\n",
    "model = Model.from_file('tests\\\\assets\\\\revit-sample-with-program-type.hbjson')\n",
    "\n",
    "schedules = [sch for sch in model.properties.energy.schedules]\n",
    "\n",
    "model.convert_to_units(units='Feet')"
   ]
  },
  {
   "cell_type": "code",
   "execution_count": 9,
   "metadata": {},
   "outputs": [],
   "source": [
    "for material in model.properties.energy.materials:\n",
    "    pass"
   ]
  },
  {
   "cell_type": "code",
   "execution_count": 16,
   "metadata": {},
   "outputs": [
    {
     "name": "stdout",
     "output_type": "stream",
     "text": [
      "Typical Carpet Pad:: 0\n",
      "Typical Insulation-R12:: 0\n",
      "Typical Insulation:: 0\n",
      "Metal Roof Surface:: 0.0007999999999999979\n",
      "Typical Insulation-R24:: 0\n",
      "Typical Insulation-R15:: 0\n",
      "Typical Insulation-R22:: 0\n"
     ]
    }
   ],
   "source": [
    "materials = model.properties.energy.materials\n",
    "\n",
    "for material in materials:\n",
    "    if material.thickness <= 0.0008:\n",
    "        \n",
    "        print(f\"{material.display_name}:: {material.thickness}\")\n",
    "            "
   ]
  },
  {
   "cell_type": "code",
   "execution_count": 17,
   "metadata": {},
   "outputs": [
    {
     "name": "stdout",
     "output_type": "stream",
     "text": [
      "REF A CLEAR LO 6MM:: 0.005999999999999977\n",
      "25mm Stucco:: 0.0254\n",
      "Typical Carpet Pad:: 0\n",
      "Typical Insulation-R12:: 0\n",
      "Typical Insulation:: 0\n",
      "U 1.17 SHGC 0.49 Simple Glazing:: 0.002\n",
      "Metal Roof Surface:: 0.0007999999999999979\n",
      "Typical Insulation-R24:: 0\n",
      "6 in. Normalweight Concrete Floor:: 0.15239999999999998\n",
      "F08 Metal surface:: 0.0008000000000000003\n",
      "Typical Insulation-R15:: 0\n",
      "Typical Insulation-R22:: 0\n",
      "8 in. Concrete Block Basement Wall:: 0.2032\n",
      "5/8 in. Gypsum Board:: 0.0159\n",
      "Roof Membrane:: 0.009499999999999998\n",
      "U 0.52 SHGC 0.39 Simple Glazing:: 0.016696453788336833\n"
     ]
    }
   ],
   "source": [
    "materials = model.properties.energy.materials\n",
    "\n",
    "for material in materials:\n",
    "    \n",
    "    print(f\"{material.display_name}:: {material.thickness}\")"
   ]
  },
  {
   "cell_type": "code",
   "execution_count": 5,
   "metadata": {},
   "outputs": [
    {
     "name": "stdout",
     "output_type": "stream",
     "text": [
      "Typical Insulated Metal Door\n",
      "U 0.52 SHGC 0.39 Simple Glazing Window\n",
      "U 1.17 SHGC 0.49 Simple Glazing Skylight\n",
      "Typical Overhead Door\n",
      "U 0.88 SHGC 0.16 Sgl Ref-A-L Clr 6mm\n",
      "Typical Insulated Steel Framed Exterior Wall-R16\n",
      "Typical IEAD Roof-R23\n",
      "ext-slab\n",
      "Typical Insulated Steel Framed Exterior Floor-R27\n",
      "Typical Insulated Basement Mass Wall-R13\n"
     ]
    }
   ],
   "source": [
    "for construction in model.properties.energy.constructions:\n",
    "    print(construction.display_name)"
   ]
  },
  {
   "cell_type": "code",
   "execution_count": 17,
   "metadata": {},
   "outputs": [
    {
     "data": {
      "text/plain": [
       "ScheduleRuleset: MidriseApartment Apartment Light [default day: MidriseApartment Apartment Light_Default] [0 rules]"
      ]
     },
     "execution_count": 17,
     "metadata": {},
     "output_type": "execute_result"
    }
   ],
   "source": [
    "myruleset = schedules[0]\n",
    "\n",
    "myruleset"
   ]
  },
  {
   "cell_type": "code",
   "execution_count": 18,
   "metadata": {},
   "outputs": [
    {
     "data": {
      "text/plain": [
       "0"
      ]
     },
     "execution_count": 18,
     "metadata": {},
     "output_type": "execute_result"
    }
   ],
   "source": [
    "len(myruleset.schedule_rules)"
   ]
  },
  {
   "cell_type": "code",
   "execution_count": 19,
   "metadata": {},
   "outputs": [
    {
     "data": {
      "text/plain": [
       "()"
      ]
     },
     "execution_count": 19,
     "metadata": {},
     "output_type": "execute_result"
    }
   ],
   "source": [
    "myruleset.schedule_rules"
   ]
  },
  {
   "cell_type": "code",
   "execution_count": 2,
   "metadata": {},
   "outputs": [
    {
     "name": "stdout",
     "output_type": "stream",
     "text": [
      "8\n"
     ]
    }
   ],
   "source": [
    "print(len(schedules))"
   ]
  },
  {
   "cell_type": "code",
   "execution_count": 24,
   "metadata": {},
   "outputs": [],
   "source": [
    "\n",
    "from dataclasses import dataclass\n",
    "from enum import Enum\n",
    "import textwrap\n",
    "from honeybee_energy.schedule.ruleset import ScheduleRuleset\n",
    "from typing import List\n",
    "from typing import Set\n",
    "\n",
    "from honeybee_doe2.utils.doe_formatters import short_name\n",
    "from honeybee_doe2.properties.activitydescription import DayScheduleType\n",
    "\n",
    "\n",
    "@dataclass\n",
    "class WeekScheduleDoe:\n",
    "    name: str = None\n",
    "    stype: str = DayScheduleType\n",
    "    day_schedules: List = None\n",
    "\n",
    "    @classmethod\n",
    "    def from_schedule_ruleset(cls, stype, schedule_ruleset):\n",
    "        \"\"\"Create a WeekScheduleDoe from a ScheduleRuleset.\"\"\"\n",
    "        myruleset = schedule_ruleset\n",
    "        name = short_name(schedule_ruleset.display_name)\n",
    "        stype = stype\n",
    "\n",
    "        days_of_the_week = ['monday', 'tuesday',\n",
    "                            'wednesday', 'thursday', 'friday', 'saturday', 'sunday']\n",
    "\n",
    "        days = []\n",
    "        for rule in myruleset:\n",
    "            for day in days_of_the_week:\n",
    "                if day in rule.days_applied:\n",
    "                    days.append(short_name(rule.schedule_day.display_name)) if rule.schedule_day.display_name \\\n",
    "                        is not None else short_name(myruleset.default_day_schedule.display_name)\n",
    "                else:\n",
    "                    days.append(short_name(myruleset.default_day_schedule.display_name))\n",
    "                    \n",
    "        if len(myruleset.schedule_rules) == 0:\n",
    "            if len(myruleset.day_schedules) == 3:\n",
    "                for day in days_of_the_week:\n",
    "                    days.append(short_name(myruleset.default_day_schedule.display_name))\n",
    "            \n",
    "        \n",
    "        if myruleset.holiday_schedule is not None:\n",
    "            days.append(short_name(myruleset.holiday_schedule.display_name))\n",
    "        else:\n",
    "            days.append(short_name(myruleset.default_day_schedule.display_name))\n",
    "\n",
    "        days.append(short_name(myruleset.winter_designday_schedule.display_name)) if myruleset.winter_designday_schedule.display_name is not None else [\n",
    "            short_name(myruleset.default_day_schedule.display_name), 'HDD']\n",
    "\n",
    "        days.append(short_name(myruleset.summer_designday_schedule.display_name)) if myruleset.summer_designday_schedule.display_name \\\n",
    "            is not None else short_name(myruleset.default_day_schedule.display_name)\n",
    "\n",
    "        return cls(name=name, stype=stype, day_schedules=days)\n",
    "\n",
    "    def to_inp(self):\n",
    "\n",
    "        obj_lines = []\n",
    "        obj_lines.append(f'\"{self.name}\"      = WEEK-SCHEDULE-PD')\n",
    "        obj_lines.append(f'\\n   TYPE          = {self.stype.value}')\n",
    "        obj_lines.append(f'\\n   DAY-SCHEDULES = ( \"{self.day_schedules[0]}\", $ Monday')\n",
    "        obj_lines.append(f'\\n                     \"{self.day_schedules[1]}\", $ Tuesday')\n",
    "        obj_lines.append(f'\\n                     \"{self.day_schedules[2]}\", $ Wednesday')\n",
    "        obj_lines.append(f'\\n                     \"{self.day_schedules[3]}\", $ Thursday')\n",
    "        obj_lines.append(f'\\n                     \"{self.day_schedules[4]}\", $ Friday')\n",
    "        obj_lines.append(f'\\n                     \"{self.day_schedules[5]}\", $ Saturday')\n",
    "        obj_lines.append(f'\\n                     \"{self.day_schedules[6]}\", $ Sunday')\n",
    "        obj_lines.append(f'\\n                     \"{self.day_schedules[7]}\", $ Holiday')\n",
    "        obj_lines.append(\n",
    "            f'\\n                     \"{self.day_schedules[8]}\", $ Winter Design Day')\n",
    "        obj_lines.append(\n",
    "            f'\\n                     \"{self.day_schedules[9]}\", $ Summer Design Day')\n",
    "        obj_lines.append(f'\\n                    )')\n",
    "\n",
    "        obj_lines.append(f'\\n   ..\\n')\n",
    "\n",
    "        obj_lines.append(f'\"{self.name}_\" = SCHEDULE-PD')\n",
    "        obj_lines.append(f'\\n   TYPE     = {self.stype.value}')\n",
    "        obj_lines.append(f'\\n   MONTH    = 12')\n",
    "        obj_lines.append(f'\\n   DAY      = 31')\n",
    "        obj_lines.append(f'\\n   WEEK-SCHEDULES = \"{self.name}\"')\n",
    "        obj_lines.append(f'\\n   ..\\n')\n",
    "\n",
    "        return ''.join([line for line in obj_lines])\n",
    "\n",
    "    def __repr__(self):\n",
    "        return self.to_inp()"
   ]
  },
  {
   "cell_type": "code",
   "execution_count": 26,
   "metadata": {},
   "outputs": [
    {
     "data": {
      "text/plain": [
       "\"MdrsAprtmnt Aprtmnt Lght\"      = WEEK-SCHEDULE-PD\n",
       "   TYPE          = FRACTION\n",
       "   DAY-SCHEDULES = ( \"MdrsAprtmntAprtm_ghtDflt\", $ Monday\n",
       "                     \"MdrsAprtmntAprtm_ghtDflt\", $ Tuesday\n",
       "                     \"MdrsAprtmntAprtm_ghtDflt\", $ Wednesday\n",
       "                     \"MdrsAprtmntAprtm_ghtDflt\", $ Thursday\n",
       "                     \"MdrsAprtmntAprtm_ghtDflt\", $ Friday\n",
       "                     \"MdrsAprtmntAprtm_ghtDflt\", $ Saturday\n",
       "                     \"MdrsAprtmntAprtm_ghtDflt\", $ Sunday\n",
       "                     \"MdrsAprtmntAprtm_ghtDflt\", $ Holiday\n",
       "                     \"MdrsAprtmntAprtm_WntrDsn\", $ Winter Design Day\n",
       "                     \"MdrsAprtmntAprtm_tSmrDsn\", $ Summer Design Day\n",
       "                    )\n",
       "   ..\n",
       "\"MdrsAprtmnt Aprtmnt Lght_\" = SCHEDULE-PD\n",
       "   TYPE     = FRACTION\n",
       "   MONTH    = 12\n",
       "   DAY      = 31\n",
       "   WEEK-SCHEDULES = \"MdrsAprtmnt Aprtmnt Lght\"\n",
       "   .."
      ]
     },
     "execution_count": 26,
     "metadata": {},
     "output_type": "execute_result"
    }
   ],
   "source": [
    "myobj = WeekScheduleDoe.from_schedule_ruleset(stype = DayScheduleType.FRACTION, schedule_ruleset=schedules[0])\n",
    "\n",
    "myobj"
   ]
  },
  {
   "cell_type": "code",
   "execution_count": 27,
   "metadata": {},
   "outputs": [
    {
     "name": "stdout",
     "output_type": "stream",
     "text": [
      "3\n"
     ]
    }
   ],
   "source": [
    "print(len(schedules[0].day_schedules))"
   ]
  },
  {
   "cell_type": "code",
   "execution_count": null,
   "metadata": {},
   "outputs": [],
   "source": [
    "\n",
    "        "
   ]
  },
  {
   "cell_type": "code",
   "execution_count": null,
   "metadata": {},
   "outputs": [],
   "source": []
  }
 ],
 "metadata": {
  "kernelspec": {
   "display_name": "Python 3.9.5 ('.env': venv)",
   "language": "python",
   "name": "python3"
  },
  "language_info": {
   "codemirror_mode": {
    "name": "ipython",
    "version": 3
   },
   "file_extension": ".py",
   "mimetype": "text/x-python",
   "name": "python",
   "nbconvert_exporter": "python",
   "pygments_lexer": "ipython3",
   "version": "3.9.5"
  },
  "orig_nbformat": 4,
  "vscode": {
   "interpreter": {
    "hash": "64102ec5d521a84aea631c694a658e8415259261399b7e615bab718acc979667"
   }
  }
 },
 "nbformat": 4,
 "nbformat_minor": 2
}
