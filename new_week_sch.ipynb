{
 "cells": [
  {
   "cell_type": "code",
   "execution_count": 1,
   "metadata": {},
   "outputs": [],
   "source": [
    "from honeybee.model import Model\n",
    "\n",
    "mymodel = Model.from_file('tests\\\\assets\\\\multi_hvac.hbjson')\n",
    "\n",
    "sch_list = mymodel.properties.energy.schedules\n",
    "\n",
    "myruleset = sch_list[0]"
   ]
  },
  {
   "cell_type": "code",
   "execution_count": 2,
   "metadata": {},
   "outputs": [
    {
     "name": "stdout",
     "output_type": "stream",
     "text": [
      "(ScheduleRule: Hospital Admin Light_Sun|Sat [days applied: sunday, saturday] [date range: 01 Jan - 31 Dec], ScheduleRule: Hospital Admin Light_Sat [days applied: saturday] [date range: 01 Jan - 31 Dec], ScheduleRule: Hospital Admin Light_Sun [days applied: sunday] [date range: 01 Jan - 31 Dec])\n"
     ]
    }
   ],
   "source": [
    "print(myruleset.schedule_rules)\n",
    "    "
   ]
  },
  {
   "cell_type": "code",
   "execution_count": 3,
   "metadata": {},
   "outputs": [],
   "source": [
    "from honeybee.model import Model\n",
    "\n",
    "mymodel = Model.from_file('tests\\\\assets\\\\multi_hvac.hbjson')\n",
    "\n",
    "sch_list = mymodel.properties.energy.schedules\n",
    "\n",
    "myruleset = sch_list[0]"
   ]
  },
  {
   "cell_type": "code",
   "execution_count": 4,
   "metadata": {},
   "outputs": [
    {
     "name": "stdout",
     "output_type": "stream",
     "text": [
      "['monday', 'tuesday', 'wednesday', 'thursday', 'friday', 'saturday']\n",
      "['Hospital INFIL_SCH_PNNL_Sat|Wkdy']\n"
     ]
    }
   ],
   "source": [
    "dayslist=[]\n",
    "for rule in myruleset.schedule_rules:\n",
    "    print(rule.days_applied)\n",
    "    print([rule.schedule_day.display_name])\n",
    "    \n",
    "    #if rule days applied append self.sch name else append default_day\n",
    "    \n",
    "    \n"
   ]
  },
  {
   "cell_type": "code",
   "execution_count": 7,
   "metadata": {},
   "outputs": [
    {
     "name": "stdout",
     "output_type": "stream",
     "text": [
      "['Hospital INFIL_SCH_PNNL_Default', 'Hospital INFIL_SCH_PNNL_Default', 'Hospital INFIL_SCH_PNNL_Sat|Wkdy', 'Hospital INFIL_SCH_PNNL_Sat|Wkdy', 'Hospital INFIL_SCH_PNNL_Sat|Wkdy', 'Hospital INFIL_SCH_PNNL_Sat|Wkdy']\n"
     ]
    }
   ],
   "source": [
    "from honeybee.model import Model\n",
    "mymodel = Model.from_file('tests\\\\assets\\\\multi_hvac.hbjson')\n",
    "sch_list = mymodel.properties.energy.schedules\n",
    "myruleset = sch_list[0]\n",
    "\n",
    "\n",
    "days_of_the_week = ['sunday', 'monday' 'tuesday', 'wednesday', 'thursday', 'friday', 'saturday']\n",
    "days = []\n",
    "for rule in myruleset:\n",
    "    for day in days_of_the_week:\n",
    "        if day in rule.days_applied:\n",
    "            days.append((rule.schedule_day.display_name))\n",
    "        else:\n",
    "            days.append(myruleset.default_day_schedule.display_name)\n",
    "        \n",
    "        \n",
    "print(days)"
   ]
  },
  {
   "cell_type": "code",
   "execution_count": 4,
   "metadata": {},
   "outputs": [
    {
     "data": {
      "text/plain": [
       "\"Hospital Admin Light\"      = WEEK-SCHEDULE-PD\n",
       "   TYPE          = FRACTION\n",
       "   DAY-SCHEDULES = \n",
       "('Hospital Admin Light_Sun|Sat', 'Hospital Admin Light_Default', 'Hospital Admin Light_Default', 'Hospital Admin Light_Default', 'Hospital Admin Light_Default', 'Hospital Admin Light_Sun|Sat', 'Hospital Admin Light_Default', 'Hospital Admin Light_Default', 'Hospital Admin Light_Default', 'Hospital Admin Light_Default', 'Hospital Admin Light_Default', 'Hospital Admin Light_Sat', 'Hospital Admin Light_Sun', 'Hospital Admin Light_Default', 'Hospital Admin Light_Default', 'Hospital Admin Light_Default', 'Hospital Admin Light_Default', 'Hospital Admin Light_Default')\n",
       "  .."
      ]
     },
     "execution_count": 4,
     "metadata": {},
     "output_type": "execute_result"
    }
   ],
   "source": [
    "\n",
    "from honeybee_doe2.properties.activitydescription import DayScheduleType, Days\n",
    "from dataclasses import dataclass\n",
    "from honeybee.model import Model\n",
    "from typing import List\n",
    "import textwrap\n",
    "\n",
    "\n",
    "@dataclass\n",
    "class WeekScheduleDoe2:\n",
    "    name: str = None\n",
    "    stype: str = DayScheduleType.FRACTION.value\n",
    "    day_schedules: List = None\n",
    "    \n",
    "    \n",
    "    @classmethod\n",
    "    def from_schedule_ruleset(cls, stype, schedule_ruleset):\n",
    "        \"\"\"Create a WeekScheduleDoe from a ScheduleRuleset.\"\"\"\n",
    "        days_of_the_week = ['monday', 'tuesday', 'wednesday', 'thursday', 'friday', 'saturday', 'sunday']\n",
    "        \n",
    "        \n",
    "        name = schedule_ruleset.display_name\n",
    "        stype = stype\n",
    "        \n",
    "        days_of_the_week = ['sunday', 'monday' 'tuesday', 'wednesday', 'thursday', 'friday', 'saturday']\n",
    "        days = []\n",
    "        for rule in myruleset:\n",
    "            for day in days_of_the_week:\n",
    "                if day in rule.days_applied:\n",
    "                    days.append((rule.schedule_day.display_name))\n",
    "                else:\n",
    "                    days.append(myruleset.default_day_schedule.display_name)\n",
    "                    \n",
    "        \n",
    "        \n",
    "        \n",
    "        return cls(name=name, stype=stype, day_schedules = days)\n",
    "        \n",
    "        \n",
    "    def to_inp(self):\n",
    "        \n",
    "        \n",
    "    \n",
    "        obj_lines = []\n",
    "        obj_lines.append(f'\"{self.name}\"      = WEEK-SCHEDULE-PD')\n",
    "        obj_lines.append(f'\\n   TYPE          = {self.stype}')\n",
    "        obj_lines.append(f'\\n   DAY-SCHEDULES = \\n{tuple(self.day_schedules)}')\n",
    "        \n",
    "        obj_lines.append(f'\\n  ..')\n",
    "        \n",
    "        return ''.join([line for line in obj_lines])\n",
    "        \n",
    "    def __repr__(self):\n",
    "        return self.to_inp()\n",
    "    \n",
    "    \n",
    "    \n",
    "    \n",
    "    \n",
    "#* testing\n",
    "mymodel = Model.from_file('tests\\\\assets\\\\multi_hvac.hbjson')\n",
    "sch_list = mymodel.properties.energy.schedules\n",
    "myruleset = sch_list[0]\n",
    "#* testing \n",
    "\n",
    "\n",
    "\n",
    "\n",
    "\n",
    "WeekScheduleDoe2.from_schedule_ruleset(stype=DayScheduleType.FRACTION.value, schedule_ruleset=myruleset)      \n"
   ]
  },
  {
   "cell_type": "code",
   "execution_count": null,
   "metadata": {},
   "outputs": [],
   "source": []
  },
  {
   "cell_type": "code",
   "execution_count": null,
   "metadata": {},
   "outputs": [],
   "source": []
  }
 ],
 "metadata": {
  "kernelspec": {
   "display_name": "Python 3.9.5 ('.env': venv)",
   "language": "python",
   "name": "python3"
  },
  "language_info": {
   "codemirror_mode": {
    "name": "ipython",
    "version": 3
   },
   "file_extension": ".py",
   "mimetype": "text/x-python",
   "name": "python",
   "nbconvert_exporter": "python",
   "pygments_lexer": "ipython3",
   "version": "3.9.5"
  },
  "orig_nbformat": 4,
  "vscode": {
   "interpreter": {
    "hash": "64102ec5d521a84aea631c694a658e8415259261399b7e615bab718acc979667"
   }
  }
 },
 "nbformat": 4,
 "nbformat_minor": 2
}
