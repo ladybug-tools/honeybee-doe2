{
 "cells": [
  {
   "cell_type": "code",
   "execution_count": 3,
   "metadata": {},
   "outputs": [
    {
     "data": {
      "text/plain": [
       "\"Hospital Infil Quarter On\"      = WEEK-SCHEDULE-PD\n",
       "   TYPE          = FRACTION\n",
       "   DAY-SCHEDULES = \n",
       "('Hospital Infil Quarter On_Default', 'Hospital Infil Quarter On_Default', 'Hospital Infil Quarter On_Sun|Sat', 'Hospital Infil Quarter On_Sun|Sat', 'Hospital Infil Quarter On_Default', 'Hospital Infil Quarter On_Default', 'Hospital Infil Quarter On_WntrDsn', 'Hospital Infil Quarter On_SmrDsn')\n",
       "  .."
      ]
     },
     "execution_count": 3,
     "metadata": {},
     "output_type": "execute_result"
    }
   ],
   "source": [
    "\n",
    "from honeybee_doe2.properties.activitydescription import DayScheduleType, Days\n",
    "from dataclasses import dataclass\n",
    "from honeybee.model import Model\n",
    "from typing import List\n",
    "import textwrap\n",
    "\n",
    "\n",
    "@dataclass\n",
    "class WeekScheduleDoe2:\n",
    "    name: str = None\n",
    "    stype: str = DayScheduleType.FRACTION.value\n",
    "    day_schedules: List = None\n",
    "    \n",
    "    \n",
    "    @classmethod\n",
    "    def from_schedule_ruleset(cls, stype, schedule_ruleset):\n",
    "        \"\"\"Create a WeekScheduleDoe from a ScheduleRuleset.\"\"\"\n",
    "        \n",
    "        name = schedule_ruleset.display_name\n",
    "        stype = stype\n",
    "        \n",
    "        days_of_the_week = sorted(['sunday', 'monday' 'tuesday', 'wednesday', 'thursday', 'friday', 'saturday'])\n",
    "        days = []\n",
    "        for rule in myruleset:\n",
    "            for day in days_of_the_week:\n",
    "                if day in rule.days_applied:\n",
    "                    days.append((rule.schedule_day.display_name))\n",
    "                else:\n",
    "                    days.append(myruleset.default_day_schedule.display_name)\n",
    "        \n",
    "        days.append(myruleset.winter_designday_schedule.display_name) if myruleset.winter_designday_schedule.display_name \\\n",
    "            is not None else myruleset.default_day_schedule.display_name\n",
    "            \n",
    "        days.append(myruleset.summer_designday_schedule.display_name) if myruleset.summer_designday_schedule.display_name \\\n",
    "            is not None else myruleset.default_day_schedule.display_name\n",
    "                    \n",
    "        \n",
    "        \n",
    "        \n",
    "        return cls(name=name, stype=stype, day_schedules = days)\n",
    "        \n",
    "        \n",
    "    def to_inp(self):\n",
    "\n",
    "    \n",
    "        obj_lines = []\n",
    "        obj_lines.append(f'\"{self.name}\"      = WEEK-SCHEDULE-PD')\n",
    "        obj_lines.append(f'\\n   TYPE          = {self.stype}')\n",
    "        obj_lines.append(f'\\n   DAY-SCHEDULES = \\n{tuple(self.day_schedules)}')\n",
    "        \n",
    "        obj_lines.append(f'\\n  ..')\n",
    "        \n",
    "        return ''.join([line for line in obj_lines])\n",
    "        \n",
    "    def __repr__(self):\n",
    "        return self.to_inp()\n",
    "    \n",
    "    \n",
    "    \n",
    "    \n",
    "    \n",
    "#* testing\n",
    "mymodel = Model.from_file('tests\\\\assets\\\\multi_hvac.hbjson')\n",
    "sch_list = mymodel.properties.energy.schedules\n",
    "myruleset = sch_list[0]\n",
    "#* testing \n",
    "\n",
    "\n",
    "\n",
    "\n",
    "\n",
    "WeekScheduleDoe2.from_schedule_ruleset(stype=DayScheduleType.FRACTION.value, schedule_ruleset=myruleset)      \n"
   ]
  },
  {
   "cell_type": "code",
   "execution_count": null,
   "metadata": {},
   "outputs": [],
   "source": []
  },
  {
   "cell_type": "code",
   "execution_count": null,
   "metadata": {},
   "outputs": [],
   "source": []
  },
  {
   "cell_type": "code",
   "execution_count": 5,
   "metadata": {},
   "outputs": [
    {
     "name": "stdout",
     "output_type": "stream",
     "text": [
      "['Hospital Admin Light_Sun|Sat', 'Hospital Admin Light_Default', 'Hospital Admin Light_Default', 'Hospital Admin Light_Default', 'Hospital Admin Light_Default', 'Hospital Admin Light_Sun|Sat', 'Hospital Admin Light_Default', 'Hospital Admin Light_Default', 'Hospital Admin Light_Default', 'Hospital Admin Light_Default', 'Hospital Admin Light_Default', 'Hospital Admin Light_Sat', 'Hospital Admin Light_Sun', 'Hospital Admin Light_Default', 'Hospital Admin Light_Default', 'Hospital Admin Light_Default', 'Hospital Admin Light_Default', 'Hospital Admin Light_Default']\n"
     ]
    }
   ],
   "source": [
    "from honeybee.model import Model\n",
    "mymodel = Model.from_file('tests\\\\assets\\\\multi_hvac.hbjson')\n",
    "sch_list = mymodel.properties.energy.schedules\n",
    "myruleset = sch_list[0]\n",
    "\n",
    "\n",
    "days_of_the_week = ['sunday', 'monday' 'tuesday', 'wednesday', 'thursday', 'friday', 'saturday']\n",
    "days = []\n",
    "for rule in myruleset:\n",
    "    for day in days_of_the_week:\n",
    "        if day in rule.days_applied:\n",
    "            days.append((rule.schedule_day.display_name))\n",
    "        else:\n",
    "            days.append(myruleset.default_day_schedule.display_name)\n",
    "        \n",
    "        \n",
    "print(days)"
   ]
  }
 ],
 "metadata": {
  "kernelspec": {
   "display_name": "Python 3.9.5 ('.env': venv)",
   "language": "python",
   "name": "python3"
  },
  "language_info": {
   "codemirror_mode": {
    "name": "ipython",
    "version": 3
   },
   "file_extension": ".py",
   "mimetype": "text/x-python",
   "name": "python",
   "nbconvert_exporter": "python",
   "pygments_lexer": "ipython3",
   "version": "3.9.5"
  },
  "orig_nbformat": 4,
  "vscode": {
   "interpreter": {
    "hash": "64102ec5d521a84aea631c694a658e8415259261399b7e615bab718acc979667"
   }
  }
 },
 "nbformat": 4,
 "nbformat_minor": 2
}
