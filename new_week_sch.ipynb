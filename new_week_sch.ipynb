{
 "cells": [
  {
   "cell_type": "code",
   "execution_count": 2,
   "metadata": {},
   "outputs": [
    {
     "data": {
      "text/plain": [
       "\"Hospital Critical Light\"      = WEEK-SCHEDULE-PD\n",
       "   TYPE          = FRACTION\n",
       "   DAY-SCHEDULES = \n",
       "('Hsptl Crtcl LghtDflt', 'Hsptl Crtcl LghtDflt', 'Hsptl Crtcl LghtSn|St', 'Hsptl Crtcl LghtSn|St', 'Hsptl Crtcl LghtDflt', 'Hsptl Crtcl LghtDflt', 'Hsptl Crtcl LghtDflt', 'Hsptl Crtcl LghtWntrDsn', 'Hsptl Crtcl LghtSmrDsn')\n",
       "  .."
      ]
     },
     "execution_count": 2,
     "metadata": {},
     "output_type": "execute_result"
    }
   ],
   "source": [
    "\n",
    "from honeybee_doe2.properties.activitydescription import DayScheduleType, Days\n",
    "from dataclasses import dataclass\n",
    "from honeybee.model import Model\n",
    "from typing import List\n",
    "import textwrap\n",
    "from honeybee_doe2.utils.doe_formatters import short_name\n",
    "\n",
    "\n",
    "@dataclass\n",
    "class WeekScheduleDoe2:\n",
    "    name: str = None\n",
    "    stype: str = DayScheduleType.FRACTION.value\n",
    "    day_schedules: List = None\n",
    "\n",
    "    @classmethod\n",
    "    def from_schedule_ruleset(cls, stype, schedule_ruleset):\n",
    "        \"\"\"Create a WeekScheduleDoe from a ScheduleRuleset.\"\"\"\n",
    "        myruleset = schedule_ruleset\n",
    "        name = short_name(schedule_ruleset.display_name)\n",
    "        stype = stype\n",
    "\n",
    "        days_of_the_week = sorted(\n",
    "            ['sunday', 'monday' 'tuesday', 'wednesday', 'thursday', 'friday', 'saturday'])\n",
    "        days = []\n",
    "        for rule in myruleset:\n",
    "            for day in days_of_the_week:\n",
    "                if day in rule.days_applied:\n",
    "                    days.append(short_name(rule.schedule_day.display_name)) if rule.schedule_day.display_name \\\n",
    "                        is not None else short_name(myruleset.default_day_schedule.display_name)\n",
    "                else:\n",
    "                    days.append(short_name(myruleset.default_day_schedule.display_name))\n",
    "\n",
    "        if myruleset.holiday_schedule is not None:\n",
    "            days.append(short_name(myruleset.holiday_schedule.display_name))\n",
    "        else:\n",
    "            days.append(short_name(myruleset.default_day_schedule.display_name))\n",
    "\n",
    "        days.append(short_name(myruleset.winter_designday_schedule.display_name)\n",
    "                    ) if myruleset.winter_designday_schedule.display_name is not None else short_name(myruleset.default_day_schedule.display_name)\n",
    "\n",
    "        days.append(short_name(myruleset.summer_designday_schedule.display_name)) if myruleset.summer_designday_schedule.display_name \\\n",
    "            is not None else short_name(myruleset.default_day_schedule.display_name)\n",
    "\n",
    "        return cls(name=name, stype=stype, day_schedules=days)\n",
    "\n",
    "    def to_inp(self):\n",
    "\n",
    "        obj_lines = []\n",
    "        obj_lines.append(f'\"{self.name}\"      = WEEK-SCHEDULE-PD')\n",
    "        obj_lines.append(f'\\n   TYPE          = {self.stype}')\n",
    "        obj_lines.append(f'\\n   DAY-SCHEDULES = \\n{tuple(self.day_schedules)}')\n",
    "\n",
    "        obj_lines.append(f'\\n  ..')\n",
    "\n",
    "        return ''.join([line for line in obj_lines])\n",
    "\n",
    "    def __repr__(self):\n",
    "        return self.to_inp()\n",
    "\n",
    "    \n",
    "    \n",
    "    \n",
    " \n",
    "    \n",
    "#* testing\n",
    "mymodel = Model.from_file('tests\\\\assets\\\\multi_hvac.hbjson')\n",
    "sch_list = mymodel.properties.energy.schedules\n",
    "myruleset = sch_list[2]\n",
    "#* testing \n",
    "\n",
    "\n",
    "\n",
    "\n",
    "\n",
    "WeekScheduleDoe2.from_schedule_ruleset(stype=DayScheduleType.FRACTION.value, schedule_ruleset=myruleset)\n"
   ]
  },
  {
   "cell_type": "code",
   "execution_count": null,
   "metadata": {},
   "outputs": [],
   "source": []
  }
 ],
 "metadata": {
  "kernelspec": {
   "display_name": "Python 3.9.5 ('.env': venv)",
   "language": "python",
   "name": "python3"
  },
  "language_info": {
   "codemirror_mode": {
    "name": "ipython",
    "version": 3
   },
   "file_extension": ".py",
   "mimetype": "text/x-python",
   "name": "python",
   "nbconvert_exporter": "python",
   "pygments_lexer": "ipython3",
   "version": "3.9.5"
  },
  "orig_nbformat": 4,
  "vscode": {
   "interpreter": {
    "hash": "64102ec5d521a84aea631c694a658e8415259261399b7e615bab718acc979667"
   }
  }
 },
 "nbformat": 4,
 "nbformat_minor": 2
}
